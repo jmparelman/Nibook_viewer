{
 "cells": [
  {
   "cell_type": "code",
   "execution_count": 1,
   "metadata": {
    "collapsed": true
   },
   "outputs": [],
   "source": [
    "from image_processing import generate_all_images\n",
    "from display_images import display_images\n",
    "%matplotlib inline\n",
    "import time\n",
    "from nilearn import image"
   ]
  },
  {
   "cell_type": "code",
   "execution_count": null,
   "metadata": {},
   "outputs": [
    {
     "name": "stderr",
     "output_type": "stream",
     "text": [
      "/usr/local/anaconda3/lib/python3.6/site-packages/nilearn/plotting/find_cuts.py:153: RuntimeWarning: invalid value encountered in greater\n",
      "  mask = np.abs(data - edge_value) > .005*data.ptp()\n",
      "/usr/local/anaconda3/lib/python3.6/site-packages/nilearn/plotting/find_cuts.py:155: UserWarning: empty mask\n",
      "  get_mask_bounds(new_img_like(img, mask, affine))\n"
     ]
    },
    {
     "name": "stdout",
     "output_type": "stream",
     "text": [
      "working on x\n",
      "working on y\n",
      "working on z\n"
     ]
    }
   ],
   "source": [
    "t = time.time()\n",
    "im1 = image.load_img('/data00/projects/drisc/data/subjs/DRISC05/anatomy/m0wp1regT1mprage.nii')\n",
    "imlist = generate_all_images(im1)\n",
    "display_images(imlist)\n",
    "print(time.time() - t)"
   ]
  },
  {
   "cell_type": "code",
   "execution_count": null,
   "metadata": {
    "collapsed": true
   },
   "outputs": [],
   "source": []
  }
 ],
 "metadata": {
  "kernelspec": {
   "display_name": "Python 3",
   "language": "python",
   "name": "python3"
  },
  "language_info": {
   "codemirror_mode": {
    "name": "ipython",
    "version": 3
   },
   "file_extension": ".py",
   "mimetype": "text/x-python",
   "name": "python",
   "nbconvert_exporter": "python",
   "pygments_lexer": "ipython3",
   "version": "3.6.1"
  }
 },
 "nbformat": 4,
 "nbformat_minor": 2
}
